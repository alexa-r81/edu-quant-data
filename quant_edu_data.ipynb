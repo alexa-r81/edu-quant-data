{
 "cells": [
  {
   "cell_type": "code",
   "execution_count": 1,
   "id": "ef04c4ea",
   "metadata": {},
   "outputs": [],
   "source": [
    "import pandas as pd\n",
    "import math"
   ]
  },
  {
   "cell_type": "code",
   "execution_count": 2,
   "id": "602221e4",
   "metadata": {
    "scrolled": false
   },
   "outputs": [],
   "source": [
    "file = 'nyts2021.sas7bdat'"
   ]
  },
  {
   "cell_type": "code",
   "execution_count": 30,
   "id": "ffe90c64",
   "metadata": {},
   "outputs": [
    {
     "name": "stdout",
     "output_type": "stream",
     "text": [
      "   StudentLoginID                           Location  QN1  QN2  QN3  QN4A  \\\n",
      "0        153749.0  b'In a school building/classroom'  3.0  2.0  1.0   NaN   \n",
      "1        153750.0  b'In a school building/classroom'  4.0  1.0  1.0   1.0   \n",
      "2        153752.0  b'In a school building/classroom'  4.0  2.0  1.0   NaN   \n",
      "3        153753.0  b'In a school building/classroom'  4.0  2.0  1.0   1.0   \n",
      "4        153754.0  b'In a school building/classroom'  3.0  2.0  1.0   NaN   \n",
      "\n",
      "   QN4B  QN4C  QN4D  QN4E  ...  CBIDIS  CHTP  CPOUCH        psu  stratum  \\\n",
      "0   1.0   NaN   NaN   NaN  ...     2.0   2.0     2.0  b'016452'   b'BR3'   \n",
      "1   NaN   NaN   NaN   NaN  ...     2.0   2.0     2.0  b'016452'   b'BR3'   \n",
      "2   NaN   NaN   NaN   1.0  ...     2.0   2.0     2.0  b'016452'   b'BR3'   \n",
      "3   NaN   NaN   NaN   NaN  ...     2.0   2.0     2.0  b'016452'   b'BR3'   \n",
      "4   1.0   NaN   NaN   NaN  ...     NaN   NaN     NaN  b'016452'   b'BR3'   \n",
      "\n",
      "    hsms      finwgt  v_stratum  v_stratum2     psu2  \n",
      "0  b'MS'  262.047226     b'103'       103.0  16452.0  \n",
      "1  b'MS'  345.984971     b'103'       103.0  16452.0  \n",
      "2  b'MS'  262.047226     b'103'       103.0  16452.0  \n",
      "3  b'MS'  369.050636     b'103'       103.0  16452.0  \n",
      "4  b'MS'  262.047226     b'103'       103.0  16452.0  \n",
      "\n",
      "[5 rows x 1334 columns]\n"
     ]
    }
   ],
   "source": [
    "#read data from SAS & print head\n",
    "df = pd.read_sas(file)\n",
    "print(df.head())"
   ]
  },
  {
   "cell_type": "code",
   "execution_count": 29,
   "id": "0023893d",
   "metadata": {},
   "outputs": [
    {
     "name": "stdout",
     "output_type": "stream",
     "text": [
      "['StudentLoginID', 'Location', 'QN1', 'QN2', 'QN3', 'QN4A', 'QN4B', 'QN4C', 'QN4D', 'QN4E', 'QN5A', 'QN5B', 'QN5C', 'QN5D', 'QN5E', 'QN6', 'QN7', 'QN8', 'QN9', 'QN10', 'QN11A', 'QN11B', 'QN11C', 'QN11D', 'QN11E', 'QN11F', 'QN11G', 'QN11H', 'QN11I', 'QN11J', 'QN11K', 'QN11L', 'QN11M', 'QN11N', 'QN12A', 'QN12B', 'QN12C', 'QN12D', 'QN12E', 'QN12F', 'QN12G', 'QN12H', 'QN12I', 'QN12J', 'QN12K', 'QN12L', 'QN12M', 'QN12N', 'QN13', 'QN14A', 'QN14B', 'QN14C', 'QN14D', 'QN14E', 'QN14F', 'QN14G', 'QN14H', 'QN14I', 'QN14J', 'QN14K', 'QN14L', 'QN14M', 'QN14N', 'QN14O', 'QN15', 'QN16', 'QN17', 'QN18A', 'QN19AA', 'QN19AB', 'QN19AC', 'QN19AD', 'QN19AE', 'QN19AF', 'QN19AG', 'QN19AH', 'QN20AA', 'QN20AB', 'QN20AC', 'QN20AD', 'QN20AE', 'QN20AF', 'QN20AG', 'QN20AH', 'QN21AA', 'QN21AB', 'QN21AC', 'QN21AD', 'QN21AE', 'QN21AF', 'QN21AG', 'QN21AH', 'QN21AI', 'QN21AJ', 'QN21AK', 'QN21AL', 'QN22', 'QN23A', 'QN23B', 'QN23C', 'QN23D', 'QN24', 'QN25', 'QN26', 'QN27', 'QN28A', 'QN28B', 'QN28C', 'QN28D', 'QN28E', 'QN28F', 'QN28G', 'QN28H', 'QN28I', 'QN28J', 'QN29', 'QN30', 'QN31', 'QN32', 'QN33A', 'QN33B', 'QN33C', 'QN33D', 'QN34A', 'QN34B', 'QN34C', 'QN34D', 'QN35', 'QN36', 'QN37', 'QN38', 'QN39', 'QN40', 'QN41A', 'QN41B', 'QN41C', 'QN41D', 'QN41E', 'QN41F', 'QN41G', 'QN41H', 'QN41I', 'QN41J', 'QN41K', 'QN41L', 'QN41M', 'QN42', 'QN43', 'QN20BA', 'QN20BB', 'QN20BC', 'QN20BD', 'QN20BE', 'QN20BF', 'QN20BG', 'QN20BH', 'QN21BA', 'QN21BB', 'QN21BC', 'QN21BD', 'QN21BE', 'QN21BF', 'QN21BG', 'QN21BH', 'QN21BI', 'QN21BJ', 'QN21BK', 'QN21BL', 'QN44', 'QN45', 'QN46', 'QN47', 'QN48', 'QN49', 'QN50', 'QN51', 'QN52', 'QN53', 'QN54', 'QN55A', 'QN55B', 'QN55C', 'QN55D', 'QN18B', 'QN19BA', 'QN19BB', 'QN19BC', 'QN19BD', 'QN19BE', 'QN19BF', 'QN19BG', 'QN19BH', 'QN20CA', 'QN20CB', 'QN20CC', 'QN20CD', 'QN20CE', 'QN20CF', 'QN20CG', 'QN20CH', 'QN21CA', 'QN21CB', 'QN21CC', 'QN21CD', 'QN21CE', 'QN21CF', 'QN21CG', 'QN21CH', 'QN21CI', 'QN21CJ', 'QN21CK', 'QN21CL', 'QN56', 'QN57', 'QN58', 'QN59', 'QN60', 'QN61', 'QN62', 'QN63', 'QN64', 'QN18C', 'QN19CA', 'QN19CB', 'QN19CC', 'QN19CD', 'QN19CE', 'QN19CF', 'QN19CG', 'QN19CH', 'QN20DA', 'QN20DB', 'QN20DC', 'QN20DD', 'QN20DE', 'QN20DF', 'QN20DG', 'QN20DH', 'QN21DA', 'QN21DB', 'QN21DC', 'QN21DD', 'QN21DE', 'QN21DF', 'QN21DG', 'QN21DH', 'QN21DI', 'QN21DJ', 'QN21DK', 'QN21DL', 'QN65', 'QN66', 'QN67', 'QN68', 'QN69', 'QN70A', 'QN70B', 'QN70C', 'QN70D', 'QN70E', 'QN70F', 'QN18D', 'QN19DA', 'QN19DB', 'QN19DC', 'QN19DD', 'QN19DE', 'QN19DF', 'QN19DG', 'QN19DH', 'QN20EA', 'QN20EB', 'QN20EC', 'QN20ED', 'QN20EE', 'QN20EF', 'QN20EG', 'QN20EH', 'QN21EA', 'QN21EB', 'QN21EC', 'QN21ED', 'QN21EE', 'QN21EF', 'QN21EG', 'QN21EH', 'QN21EI', 'QN21EJ', 'QN21EK', 'QN21EL', 'QN71', 'QN72', 'QN73', 'QN74', 'QN18I', 'QN19IA', 'QN19IB', 'QN19IC', 'QN19ID', 'QN19IE', 'QN19IF', 'QN19IG', 'QN19IH', 'QN20JA', 'QN20JB', 'QN20JC', 'QN20JD', 'QN20JE', 'QN20JF', 'QN20JG', 'QN20JH', 'QN21JA', 'QN21JB', 'QN21JC', 'QN21JD', 'QN21JE', 'QN21JF', 'QN21JG', 'QN21JH', 'QN21JI', 'QN21JJ', 'QN21JK', 'QN21JL', 'QN75', 'QN76', 'QN18E', 'QN19EA', 'QN19EB', 'QN19EC', 'QN19ED', 'QN19EE', 'QN19EF', 'QN19EG', 'QN19EH', 'QN20FA', 'QN20FB', 'QN20FC', 'QN20FD', 'QN20FE', 'QN20FF', 'QN20FG', 'QN20FH', 'QN21FA', 'QN21FB', 'QN21FC', 'QN21FD', 'QN21FE', 'QN21FF', 'QN21FG', 'QN21FH', 'QN21FI', 'QN21FJ', 'QN21FK', 'QN21FL', 'QN77', 'QN78', 'QN18F', 'QN19FA', 'QN19FB', 'QN19FC', 'QN19FD', 'QN19FE', 'QN19FF', 'QN19FG', 'QN19FH', 'QN20GA', 'QN20GB', 'QN20GC', 'QN20GD', 'QN20GE', 'QN20GF', 'QN20GG', 'QN20GH', 'QN21GA', 'QN21GB', 'QN21GC', 'QN21GD', 'QN21GE', 'QN21GF', 'QN21GG', 'QN21GH', 'QN21GI', 'QN21GJ', 'QN21GK', 'QN21GL', 'QN79', 'QN80', 'QN18G', 'QN19GA', 'QN19GB', 'QN19GC', 'QN19GD', 'QN19GE', 'QN19GF', 'QN19GG', 'QN19GH', 'QN20HA', 'QN20HB', 'QN20HC', 'QN20HD', 'QN20HE', 'QN20HF', 'QN20HG', 'QN20HH', 'QN21HA', 'QN21HB', 'QN21HC', 'QN21HD', 'QN21HE', 'QN21HF', 'QN21HG', 'QN21HH', 'QN21HI', 'QN21HJ', 'QN21HK', 'QN21HL', 'QN81', 'QN82', 'QN18H', 'QN19HA', 'QN19HB', 'QN19HC', 'QN19HD', 'QN19HE', 'QN19HF', 'QN19HG', 'QN19HH', 'QN20IA', 'QN20IB', 'QN20IC', 'QN20ID', 'QN20IE', 'QN20IF', 'QN20IG', 'QN20IH', 'QN21IA', 'QN21IB', 'QN21IC', 'QN21ID', 'QN21IE', 'QN21IF', 'QN21IG', 'QN21IH', 'QN21II', 'QN21IJ', 'QN21IK', 'QN21IL', 'QN83', 'QN84', 'QN85', 'QN18J', 'QN19JA', 'QN19JB', 'QN19JC', 'QN19JD', 'QN19JE', 'QN19JF', 'QN19JG', 'QN19JH', 'QN20KA', 'QN20KB', 'QN20KC', 'QN20KD', 'QN20KE', 'QN20KF', 'QN20KG', 'QN20KH', 'QN21KA', 'QN21KB', 'QN21KC', 'QN21KD', 'QN21KE', 'QN21KF', 'QN21KG', 'QN21KH', 'QN21KI', 'QN21KJ', 'QN21KK', 'QN21KL', 'QN86', 'QN87', 'QN88', 'QN18K', 'QN19KA', 'QN19KB', 'QN19KC', 'QN19KD', 'QN19KE', 'QN19KF', 'QN19KG', 'QN19KH', 'QN20LA', 'QN20LB', 'QN20LC', 'QN20LD', 'QN20LE', 'QN20LF', 'QN20LG', 'QN20LH', 'QN21LA', 'QN21LB', 'QN21LC', 'QN21LD', 'QN21LE', 'QN21LF', 'QN21LG', 'QN21LH', 'QN21LI', 'QN21LJ', 'QN21LK', 'QN21LL', 'QN89', 'QN90', 'QN91', 'QN92', 'QN93', 'QN94', 'QN95', 'QN96', 'QN97', 'QN98', 'QN99', 'QN100', 'QN101', 'QN102', 'QN103', 'QN104A', 'QN104B', 'QN104C', 'QN104D', 'QN104E', 'QN109', 'QN110A', 'QN110B', 'QN110C', 'QN110D', 'QN110E', 'QN110F', 'QN111', 'QN112', 'QN113', 'QN114', 'QN115', 'QN116', 'QN117', 'QN118', 'QN119', 'QN120', 'QN121', 'QN122', 'QN123', 'QN124', 'QN125', 'QN126', 'QN127', 'QN128', 'QN129', 'QN130', 'QN131', 'QN132', 'QN133', 'QN134', 'QN135A', 'QN135B', 'QN135C', 'QN135D', 'QN135E', 'QN135F', 'QN135G', 'QN135H', 'QN136', 'QN137', 'QN138A', 'QN138B', 'QN138C', 'QN138D', 'QN138E', 'QN138F', 'QN138G', 'QN139', 'QN140', 'QN141', 'QN142', 'QN143', 'QN144', 'QN145', 'QN146', 'QN147', 'QN148', 'QN149', 'QN150', 'QN151', 'QN152A', 'QN152B', 'QN152C', 'QN152D', 'QN152E', 'QN152F', 'QN153A', 'QN153B', 'QN153C', 'QN153D', 'QN153E', 'QN153F', 'QN153G', 'QN153H', 'QN153I', 'QN153J', 'QN153K', 'QN153L', 'QN153M', 'QN154', 'QN155', 'QN156', 'QN157A', 'QN157B', 'QN157C', 'QN157D', 'QN161', 'QN162', 'QN163', 'QN164', 'QN165', 'QN166', 'Q1', 'Q2', 'Q3', 'Q4A', 'Q4B', 'Q4C', 'Q4D', 'Q4E', 'Q5A', 'Q5B', 'Q5C', 'Q5D', 'Q5E', 'Q6', 'Q7', 'Q8', 'Q9', 'Q10', 'Q11A', 'Q11B', 'Q11C', 'Q11D', 'Q11E', 'Q11F', 'Q11G', 'Q11H', 'Q11I', 'Q11J', 'Q11K', 'Q11L', 'Q11M', 'Q11N', 'Q11_OTHER', 'Q12A', 'Q12B', 'Q12C', 'Q12D', 'Q12E', 'Q12F', 'Q12G', 'Q12H', 'Q12I', 'Q12J', 'Q12K', 'Q12L', 'Q12M', 'Q12N', 'Q12_OTHER', 'Q13', 'Q14A', 'Q14B', 'Q14C', 'Q14D', 'Q14E', 'Q14F', 'Q14G', 'Q14H', 'Q14I', 'Q14J', 'Q14K', 'Q14L', 'Q14M', 'Q14N', 'Q14O', 'Q14_OTHER', 'Q15', 'Q15_OTHER', 'Q16', 'Q17', 'Q18A', 'Q19AA', 'Q19AB', 'Q19AC', 'Q19AD', 'Q19AE', 'Q19AF', 'Q19AG', 'Q19AH', 'Q19A_OTHER', 'Q20AA', 'Q20AB', 'Q20AC', 'Q20AD', 'Q20AE', 'Q20AF', 'Q20AG', 'Q20AH', 'Q20A_OTHER', 'Q21AA', 'Q21AB', 'Q21AC', 'Q21AD', 'Q21AE', 'Q21AF', 'Q21AG', 'Q21AH', 'Q21AI', 'Q21AJ', 'Q21AK', 'Q21AL', 'Q21A_OTHER', 'Q22', 'Q23A', 'Q23B', 'Q23C', 'Q23D', 'Q23_OTHER', 'Q24', 'Q25', 'Q26', 'Q27', 'Q28A', 'Q28B', 'Q28C', 'Q28D', 'Q28E', 'Q28F', 'Q28G', 'Q28H', 'Q28I', 'Q28J', 'Q28_OTHER', 'Q29', 'Q30', 'Q31', 'Q32', 'Q33A', 'Q33B', 'Q33C', 'Q33D', 'Q33D_OTHER', 'Q34A', 'Q34B', 'Q34C', 'Q34D', 'Q34D_OTHER', 'Q35', 'Q36', 'Q37', 'Q38', 'Q39', 'Q40', 'Q41A', 'Q41B', 'Q41C', 'Q41D', 'Q41E', 'Q41F', 'Q41G', 'Q41H', 'Q41I', 'Q41J', 'Q41K', 'Q41L', 'Q41M', 'Q41_OTHER', 'Q42', 'Q42_OTHER', 'Q43', 'Q20BA', 'Q20BB', 'Q20BC', 'Q20BD', 'Q20BE', 'Q20BF', 'Q20BG', 'Q20BH', 'Q20B_OTHER', 'Q21BA', 'Q21BB', 'Q21BC', 'Q21BD', 'Q21BE', 'Q21BF', 'Q21BG', 'Q21BH', 'Q21BI', 'Q21BJ', 'Q21BK', 'Q21BL', 'Q21B_OTHER', 'Q44', 'Q45', 'Q46', 'Q47', 'Q48', 'Q49', 'Q50', 'Q51', 'Q52', 'Q53', 'Q54', 'Q55A', 'Q55B', 'Q55C', 'Q55D', 'Q18B', 'Q19BA', 'Q19BB', 'Q19BC', 'Q19BD', 'Q19BE', 'Q19BF', 'Q19BG', 'Q19BH', 'Q19B_OTHER', 'Q20CA', 'Q20CB', 'Q20CC', 'Q20CD', 'Q20CE', 'Q20CF', 'Q20CG', 'Q20CH', 'Q20C_OTHER', 'Q21CA', 'Q21CB', 'Q21CC', 'Q21CD', 'Q21CE', 'Q21CF', 'Q21CG', 'Q21CH', 'Q21CI', 'Q21CJ', 'Q21CK', 'Q21CL', 'Q21C_OTHER', 'Q56', 'Q57', 'Q58', 'Q59', 'Q60', 'Q61', 'Q62', 'Q63', 'Q64', 'Q18C', 'Q19CA', 'Q19CB', 'Q19CC', 'Q19CD', 'Q19CE', 'Q19CF', 'Q19CG', 'Q19CH', 'Q19C_OTHER', 'Q20DA', 'Q20DB', 'Q20DC', 'Q20DD', 'Q20DE', 'Q20DF', 'Q20DG', 'Q20DH', 'Q20D_OTHER', 'Q21DA', 'Q21DB', 'Q21DC', 'Q21DD', 'Q21DE', 'Q21DF', 'Q21DG', 'Q21DH', 'Q21DI', 'Q21DJ', 'Q21DK', 'Q21DL', 'Q21D_OTHER', 'Q65', 'Q66', 'Q67', 'Q68', 'Q69', 'Q70A', 'Q70B', 'Q70C', 'Q70D', 'Q70E', 'Q70F', 'Q18D', 'Q19DA', 'Q19DB', 'Q19DC', 'Q19DD', 'Q19DE', 'Q19DF', 'Q19DG', 'Q19DH', 'Q19D_OTHER', 'Q20EA', 'Q20EB', 'Q20EC', 'Q20ED', 'Q20EE', 'Q20EF', 'Q20EG', 'Q20EH', 'Q20E_OTHER', 'Q21EA', 'Q21EB', 'Q21EC', 'Q21ED', 'Q21EE', 'Q21EF', 'Q21EG', 'Q21EH', 'Q21EI', 'Q21EJ', 'Q21EK', 'Q21EL', 'Q21E_OTHER', 'Q71', 'Q72', 'Q73', 'Q74', 'Q18I', 'Q19IA', 'Q19IB', 'Q19IC', 'Q19ID', 'Q19IE', 'Q19IF', 'Q19IG', 'Q19IH', 'Q19I_OTHER', 'Q20JA', 'Q20JB', 'Q20JC', 'Q20JD', 'Q20JE', 'Q20JF', 'Q20JG', 'Q20JH', 'Q20J_OTHER', 'Q21JA', 'Q21JB', 'Q21JC', 'Q21JD', 'Q21JE', 'Q21JF', 'Q21JG', 'Q21JH', 'Q21JI', 'Q21JJ', 'Q21JK', 'Q21JL', 'Q21J_OTHER', 'Q75', 'Q76', 'Q18E', 'Q19EA', 'Q19EB', 'Q19EC', 'Q19ED', 'Q19EE', 'Q19EF', 'Q19EG', 'Q19EH', 'Q19E_OTHER', 'Q20FA', 'Q20FB', 'Q20FC', 'Q20FD', 'Q20FE', 'Q20FF', 'Q20FG', 'Q20FH', 'Q20F_OTHER', 'Q21FA', 'Q21FB', 'Q21FC', 'Q21FD', 'Q21FE', 'Q21FF', 'Q21FG', 'Q21FH', 'Q21FI', 'Q21FJ', 'Q21FK', 'Q21FL', 'Q21F_OTHER', 'Q77', 'Q78', 'Q18F', 'Q19FA', 'Q19FB', 'Q19FC', 'Q19FD', 'Q19FE', 'Q19FF', 'Q19FG', 'Q19FH', 'Q19F_OTHER', 'Q20GA', 'Q20GB', 'Q20GC', 'Q20GD', 'Q20GE', 'Q20GF', 'Q20GG', 'Q20GH', 'Q20G_OTHER', 'Q21GA', 'Q21GB', 'Q21GC', 'Q21GD', 'Q21GE', 'Q21GF', 'Q21GG', 'Q21GH', 'Q21GI', 'Q21GJ', 'Q21GK', 'Q21GL', 'Q21G_OTHER', 'Q79', 'Q80', 'Q18G', 'Q19GA', 'Q19GB', 'Q19GC', 'Q19GD', 'Q19GE', 'Q19GF', 'Q19GG', 'Q19GH', 'Q19G_OTHER', 'Q20HA', 'Q20HB', 'Q20HC', 'Q20HD', 'Q20HE', 'Q20HF', 'Q20HG', 'Q20HH', 'Q20H_Other', 'Q21HA', 'Q21HB', 'Q21HC', 'Q21HD', 'Q21HE', 'Q21HF', 'Q21HG', 'Q21HH', 'Q21HI', 'Q21HJ', 'Q21HK', 'Q21HL', 'Q21H_OTHER', 'Q81', 'Q82', 'Q18H', 'Q19HA', 'Q19HB', 'Q19HC', 'Q19HD', 'Q19HE', 'Q19HF', 'Q19HG', 'Q19HH', 'Q19H_OTHER', 'Q20IA', 'Q20IB', 'Q20IC', 'Q20ID', 'Q20IE', 'Q20IF', 'Q20IG', 'Q20IH', 'Q20I_OTHER', 'Q21IA', 'Q21IB', 'Q21IC', 'Q21ID', 'Q21IE', 'Q21IF', 'Q21IG', 'Q21IH', 'Q21II', 'Q21IJ', 'Q21IK', 'Q21IL', 'Q21I_OTHER', 'Q83', 'Q84', 'Q85', 'Q18J', 'Q19JA', 'Q19JB', 'Q19JC', 'Q19JD', 'Q19JE', 'Q19JF', 'Q19JG', 'Q19JH', 'Q19J_OTHER', 'Q20KA', 'Q20KB', 'Q20KC', 'Q20KD', 'Q20KE', 'Q20KF', 'Q20KG', 'Q20KH', 'Q20K_OTHER', 'Q21KA', 'Q21KB', 'Q21KC', 'Q21KD', 'Q21KE', 'Q21KF', 'Q21KG', 'Q21KH', 'Q21KI', 'Q21KJ', 'Q21KK', 'Q21KL', 'Q21K_OTHER', 'Q86', 'Q87', 'Q88', 'Q18K', 'Q19KA', 'Q19KB', 'Q19KC', 'Q19KD', 'Q19KE', 'Q19KF', 'Q19KG', 'Q19KH', 'Q19K_OTHER', 'Q20LA', 'Q20LB', 'Q20LC', 'Q20LD', 'Q20LE', 'Q20LF', 'Q20LG', 'Q20LH', 'Q20L_OTHER', 'Q21LA', 'Q21LB', 'Q21LC', 'Q21LD', 'Q21LE', 'Q21LF', 'Q21LG', 'Q21LH', 'Q21LI', 'Q21LJ', 'Q21LK', 'Q21LL', 'Q21L_OTHER', 'Q89', 'Q90', 'Q91', 'Q92', 'Q93', 'Q94', 'Q95', 'Q96', 'Q97', 'Q98', 'Q99', 'Q100', 'Q101', 'Q102', 'Q103', 'Q104A', 'Q104B', 'Q104C', 'Q104D', 'Q104E', 'Q109', 'Q110A', 'Q110B', 'Q110C', 'Q110D', 'Q110E', 'Q110F', 'Q110_OTHER', 'Q111', 'Q112', 'Q113', 'Q114', 'Q115', 'Q116', 'Q117', 'Q118', 'Q119', 'Q120', 'Q121', 'Q122', 'Q123', 'Q124', 'Q125', 'Q126', 'Q127', 'Q128', 'Q129', 'Q130', 'Q131', 'Q132', 'Q133', 'Q134', 'Q135A', 'Q135B', 'Q135C', 'Q135D', 'Q135E', 'Q135F', 'Q135G', 'Q135H', 'Q135_OTHER', 'Q136', 'Q137', 'Q138A', 'Q138B', 'Q138C', 'Q138D', 'Q138E', 'Q138F', 'Q138G', 'Q138_OTHER', 'Q139', 'Q140', 'Q141', 'Q142', 'Q143', 'Q144', 'Q145', 'Q146', 'Q147', 'Q148', 'Q149', 'Q150', 'Q151', 'Q152A', 'Q152B', 'Q152C', 'Q152D', 'Q152E', 'Q152F', 'Q152_OTHER', 'Q153A', 'Q153B', 'Q153C', 'Q153D', 'Q153E', 'Q153F', 'Q153G', 'Q153H', 'Q153I', 'Q153J', 'Q153K', 'Q153L', 'Q153M', 'Q154', 'Q155', 'Q156', 'Q157A', 'Q157B', 'Q157C', 'Q157D', 'Q161', 'Q162', 'Q163', 'Q164', 'Q165', 'Q166', 'AGEGRP', 'SEX', 'SCHOOLTYPE', 'mrace', 'RACE_M', 'RACE_S', 'SEXID', 'SEXID2', 'ECIGT', 'ECIGAR', 'ESLT', 'EELCIGT', 'EHOOKAH', 'EROLLCIGTS', 'EPIPE', 'ESNUS', 'EDISSOLV', 'EBIDIS', 'EHTP', 'EPOUCH', 'CCIGT', 'CCIGAR', 'CSLT', 'CELCIGT', 'CHOOKAH', 'CROLLCIGTS', 'CPIPE', 'CSNUS', 'CDISSOLV', 'CBIDIS', 'CHTP', 'CPOUCH', 'psu', 'stratum', 'hsms', 'finwgt', 'v_stratum', 'v_stratum2', 'psu2']\n"
     ]
    }
   ],
   "source": [
    "#list columns in data frame\n",
    "print(list(df))"
   ]
  },
  {
   "cell_type": "code",
   "execution_count": 38,
   "id": "b0271a71",
   "metadata": {
    "scrolled": false
   },
   "outputs": [
    {
     "name": "stdout",
     "output_type": "stream",
     "text": [
      "first cigarette\n",
      "7.0     804\n",
      "8.0     683\n",
      "6.0     614\n",
      "9.0     416\n",
      "5.0     406\n",
      "4.0     197\n",
      "10.0    159\n",
      "3.0     114\n",
      "1.0      95\n",
      "2.0      52\n",
      "11.0     30\n",
      "12.0      8\n",
      "Name: QN7, dtype: int64\n"
     ]
    }
   ],
   "source": [
    "col = 'QN7'\n",
    "col_name = 'first cigarette'\n",
    "freq = df[col].value_counts().rename_axis(col_name)\n",
    "print(freq)"
   ]
  },
  {
   "cell_type": "code",
   "execution_count": 39,
   "id": "99fb8f4b",
   "metadata": {},
   "outputs": [
    {
     "data": {
      "text/plain": [
       "[804, 683, 614, 416, 406, 197, 159, 114, 95, 52, 30, 8]"
      ]
     },
     "execution_count": 39,
     "metadata": {},
     "output_type": "execute_result"
    }
   ],
   "source": [
    "list(freq)"
   ]
  },
  {
   "cell_type": "code",
   "execution_count": 40,
   "id": "260e92d5",
   "metadata": {
    "scrolled": true
   },
   "outputs": [
    {
     "data": {
      "text/plain": [
       "20413"
      ]
     },
     "execution_count": 40,
     "metadata": {},
     "output_type": "execute_result"
    }
   ],
   "source": [
    "len(df)"
   ]
  },
  {
   "cell_type": "code",
   "execution_count": 41,
   "id": "5e157b95",
   "metadata": {},
   "outputs": [],
   "source": [
    "def do_homework(freq):\n",
    "    #mean\n",
    "    sum = get_sum(freq)\n",
    "    \n",
    "    n = len(freq)\n",
    "    mean = sum/n\n",
    "    #initialize an empty list\n",
    "    delta_mean_list = []\n",
    "    for i in freq:\n",
    "        d_mean = i - mean\n",
    "        delta_mean_list.append(d_mean)\n",
    "    #delta mean sqrd list\n",
    "    delta_mean_squared_list = []\n",
    "    for d_mean in delta_mean_list:\n",
    "        d_mean_sqrd = d_mean**2  #asign d_mean squared to variable\n",
    "        delta_mean_squared_list.append(d_mean_sqrd)\n",
    "    delta_mean_squared_sum = get_sum(delta_mean_squared_list)\n",
    "    variance = delta_mean_squared_sum/n\n",
    "    standard_deviation = math.sqrt(variance)\n",
    "    return mean, standard_deviation"
   ]
  },
  {
   "cell_type": "code",
   "execution_count": 42,
   "id": "bbd70327",
   "metadata": {},
   "outputs": [],
   "source": [
    "def get_sum(freq):\n",
    "    #initialize sum\n",
    "    sum = 0\n",
    "    type(freq)\n",
    "    #add each test score to sum\n",
    "    #for loop that loops through list\n",
    "    for x in freq:\n",
    "        sum = sum + x\n",
    "    return(sum)"
   ]
  },
  {
   "cell_type": "code",
   "execution_count": 43,
   "id": "789b664f",
   "metadata": {},
   "outputs": [
    {
     "name": "stdout",
     "output_type": "stream",
     "text": [
      "3578\n",
      "298.1666666666667\n"
     ]
    }
   ],
   "source": [
    "sum = get_sum(freq)\n",
    "print(sum)\n",
    "#get n\n",
    "n = len(freq)\n",
    "#divide sum by n to get mean\n",
    "mean = sum/n\n",
    "print(mean)"
   ]
  },
  {
   "cell_type": "code",
   "execution_count": 44,
   "id": "d9e75e34",
   "metadata": {},
   "outputs": [
    {
     "data": {
      "text/plain": [
       "(298.1666666666667, 266.25984593166794)"
      ]
     },
     "execution_count": 44,
     "metadata": {},
     "output_type": "execute_result"
    }
   ],
   "source": [
    "do_homework(freq)"
   ]
  },
  {
   "cell_type": "code",
   "execution_count": null,
   "id": "3a205a56",
   "metadata": {},
   "outputs": [],
   "source": [
    "list(freq)"
   ]
  },
  {
   "cell_type": "code",
   "execution_count": 45,
   "id": "30239edf",
   "metadata": {},
   "outputs": [],
   "source": [
    "def do_homework_quickly(freq):\n",
    "    df = pd.DataFrame(freq)\n",
    "    mean = df.mean()\n",
    "    median = df.median()\n",
    "    sd = df.std(ddof=0)\n",
    "    print('mean: {}\\n median: {}\\n SD: {}\\n'.format(mean[0], median[0], sd[0]))\n",
    "    return(mean, median, sd)"
   ]
  },
  {
   "cell_type": "code",
   "execution_count": 46,
   "id": "7bc02c95",
   "metadata": {},
   "outputs": [
    {
     "name": "stdout",
     "output_type": "stream",
     "text": [
      "mean: 298.1666666666667\n",
      " median: 178.0\n",
      " SD: 266.25984593166794\n",
      "\n"
     ]
    },
    {
     "data": {
      "text/plain": [
       "(QN7    298.166667\n",
       " dtype: float64,\n",
       " QN7    178.0\n",
       " dtype: float64,\n",
       " QN7    266.259846\n",
       " dtype: float64)"
      ]
     },
     "execution_count": 46,
     "metadata": {},
     "output_type": "execute_result"
    }
   ],
   "source": [
    "do_homework_quickly(freq)"
   ]
  },
  {
   "cell_type": "code",
   "execution_count": null,
   "id": "34f16873",
   "metadata": {},
   "outputs": [],
   "source": []
  }
 ],
 "metadata": {
  "kernelspec": {
   "display_name": "Python 3 (ipykernel)",
   "language": "python",
   "name": "python3"
  },
  "language_info": {
   "codemirror_mode": {
    "name": "ipython",
    "version": 3
   },
   "file_extension": ".py",
   "mimetype": "text/x-python",
   "name": "python",
   "nbconvert_exporter": "python",
   "pygments_lexer": "ipython3",
   "version": "3.9.12"
  }
 },
 "nbformat": 4,
 "nbformat_minor": 5
}
